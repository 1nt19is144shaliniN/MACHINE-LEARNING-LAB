{
 "cells": [
  {
   "cell_type": "code",
   "execution_count": 1,
   "id": "bfbdc74c",
   "metadata": {},
   "outputs": [],
   "source": [
    "import pandas as pd\n",
    "import matplotlib.pyplot as plt\n"
   ]
  },
  {
   "cell_type": "code",
   "execution_count": 2,
   "id": "10e063cb",
   "metadata": {},
   "outputs": [
    {
     "data": {
      "text/html": [
       "<div>\n",
       "<style scoped>\n",
       "    .dataframe tbody tr th:only-of-type {\n",
       "        vertical-align: middle;\n",
       "    }\n",
       "\n",
       "    .dataframe tbody tr th {\n",
       "        vertical-align: top;\n",
       "    }\n",
       "\n",
       "    .dataframe thead th {\n",
       "        text-align: right;\n",
       "    }\n",
       "</style>\n",
       "<table border=\"1\" class=\"dataframe\">\n",
       "  <thead>\n",
       "    <tr style=\"text-align: right;\">\n",
       "      <th></th>\n",
       "      <th>Hours</th>\n",
       "      <th>Scores</th>\n",
       "    </tr>\n",
       "  </thead>\n",
       "  <tbody>\n",
       "    <tr>\n",
       "      <th>0</th>\n",
       "      <td>3.0</td>\n",
       "      <td>90</td>\n",
       "    </tr>\n",
       "    <tr>\n",
       "      <th>1</th>\n",
       "      <td>2.5</td>\n",
       "      <td>80</td>\n",
       "    </tr>\n",
       "    <tr>\n",
       "      <th>2</th>\n",
       "      <td>6.0</td>\n",
       "      <td>75</td>\n",
       "    </tr>\n",
       "    <tr>\n",
       "      <th>3</th>\n",
       "      <td>4.0</td>\n",
       "      <td>39</td>\n",
       "    </tr>\n",
       "    <tr>\n",
       "      <th>4</th>\n",
       "      <td>2.0</td>\n",
       "      <td>62</td>\n",
       "    </tr>\n",
       "    <tr>\n",
       "      <th>5</th>\n",
       "      <td>1.5</td>\n",
       "      <td>34</td>\n",
       "    </tr>\n",
       "    <tr>\n",
       "      <th>6</th>\n",
       "      <td>3.0</td>\n",
       "      <td>65</td>\n",
       "    </tr>\n",
       "    <tr>\n",
       "      <th>7</th>\n",
       "      <td>5.0</td>\n",
       "      <td>40</td>\n",
       "    </tr>\n",
       "    <tr>\n",
       "      <th>8</th>\n",
       "      <td>6.0</td>\n",
       "      <td>80</td>\n",
       "    </tr>\n",
       "  </tbody>\n",
       "</table>\n",
       "</div>"
      ],
      "text/plain": [
       "   Hours  Scores\n",
       "0    3.0      90\n",
       "1    2.5      80\n",
       "2    6.0      75\n",
       "3    4.0      39\n",
       "4    2.0      62\n",
       "5    1.5      34\n",
       "6    3.0      65\n",
       "7    5.0      40\n",
       "8    6.0      80"
      ]
     },
     "execution_count": 2,
     "metadata": {},
     "output_type": "execute_result"
    }
   ],
   "source": [
    "df = pd.read_csv(\"/home/ignis/Downloads/shalini.csv\")\n",
    "df"
   ]
  },
  {
   "cell_type": "code",
   "execution_count": 4,
   "id": "8400b366",
   "metadata": {},
   "outputs": [
    {
     "data": {
      "image/png": "[encoded data removed]",
      "text/plain": [
       "<Figure size 432x288 with 1 Axes>"
      ]
     },
     "metadata": {
      "needs_background": "light"
     },
     "output_type": "display_data"
    }
   ],
   "source": [
    "df.plot(x=\"Hours\", y=\"Scores\", style=\"o\")\n",
    "plt.show()"
   ]
  },
  {
   "cell_type": "code",
   "execution_count": 5,
   "id": "4fb38ecd",
   "metadata": {},
   "outputs": [
    {
     "name": "stdout",
     "output_type": "stream",
     "text": [
      "3.6666666666666665 62.77777777777778\n"
     ]
    }
   ],
   "source": [
    "x_mean = df[\"Hours\"].mean()\n",
    "y_mean = df[\"Scores\"].mean()\n",
    "print(x_mean, y_mean)"
   ]
  },
  {
   "cell_type": "code",
   "execution_count": 6,
   "id": "1a76786c",
   "metadata": {},
   "outputs": [
    {
     "data": {
      "text/html": [
       "<div>\n",
       "<style scoped>\n",
       "    .dataframe tbody tr th:only-of-type {\n",
       "        vertical-align: middle;\n",
       "    }\n",
       "\n",
       "    .dataframe tbody tr th {\n",
       "        vertical-align: top;\n",
       "    }\n",
       "\n",
       "    .dataframe thead th {\n",
       "        text-align: right;\n",
       "    }\n",
       "</style>\n",
       "<table border=\"1\" class=\"dataframe\">\n",
       "  <thead>\n",
       "    <tr style=\"text-align: right;\">\n",
       "      <th></th>\n",
       "      <th>Hours</th>\n",
       "      <th>Scores</th>\n",
       "      <th>x</th>\n",
       "      <th>y</th>\n",
       "      <th>x*y</th>\n",
       "      <th>x^2</th>\n",
       "      <th>y^2</th>\n",
       "    </tr>\n",
       "  </thead>\n",
       "  <tbody>\n",
       "    <tr>\n",
       "      <th>0</th>\n",
       "      <td>3.0</td>\n",
       "      <td>90</td>\n",
       "      <td>-0.666667</td>\n",
       "      <td>27.222222</td>\n",
       "      <td>-18.148148</td>\n",
       "      <td>0.444444</td>\n",
       "      <td>741.049383</td>\n",
       "    </tr>\n",
       "    <tr>\n",
       "      <th>1</th>\n",
       "      <td>2.5</td>\n",
       "      <td>80</td>\n",
       "      <td>-1.166667</td>\n",
       "      <td>17.222222</td>\n",
       "      <td>-20.092593</td>\n",
       "      <td>1.361111</td>\n",
       "      <td>296.604938</td>\n",
       "    </tr>\n",
       "    <tr>\n",
       "      <th>2</th>\n",
       "      <td>6.0</td>\n",
       "      <td>75</td>\n",
       "      <td>2.333333</td>\n",
       "      <td>12.222222</td>\n",
       "      <td>28.518519</td>\n",
       "      <td>5.444444</td>\n",
       "      <td>149.382716</td>\n",
       "    </tr>\n",
       "    <tr>\n",
       "      <th>3</th>\n",
       "      <td>4.0</td>\n",
       "      <td>39</td>\n",
       "      <td>0.333333</td>\n",
       "      <td>-23.777778</td>\n",
       "      <td>-7.925926</td>\n",
       "      <td>0.111111</td>\n",
       "      <td>565.382716</td>\n",
       "    </tr>\n",
       "    <tr>\n",
       "      <th>4</th>\n",
       "      <td>2.0</td>\n",
       "      <td>62</td>\n",
       "      <td>-1.666667</td>\n",
       "      <td>-0.777778</td>\n",
       "      <td>1.296296</td>\n",
       "      <td>2.777778</td>\n",
       "      <td>0.604938</td>\n",
       "    </tr>\n",
       "    <tr>\n",
       "      <th>5</th>\n",
       "      <td>1.5</td>\n",
       "      <td>34</td>\n",
       "      <td>-2.166667</td>\n",
       "      <td>-28.777778</td>\n",
       "      <td>62.351852</td>\n",
       "      <td>4.694444</td>\n",
       "      <td>828.160494</td>\n",
       "    </tr>\n",
       "    <tr>\n",
       "      <th>6</th>\n",
       "      <td>3.0</td>\n",
       "      <td>65</td>\n",
       "      <td>-0.666667</td>\n",
       "      <td>2.222222</td>\n",
       "      <td>-1.481481</td>\n",
       "      <td>0.444444</td>\n",
       "      <td>4.938272</td>\n",
       "    </tr>\n",
       "    <tr>\n",
       "      <th>7</th>\n",
       "      <td>5.0</td>\n",
       "      <td>40</td>\n",
       "      <td>1.333333</td>\n",
       "      <td>-22.777778</td>\n",
       "      <td>-30.370370</td>\n",
       "      <td>1.777778</td>\n",
       "      <td>518.827160</td>\n",
       "    </tr>\n",
       "    <tr>\n",
       "      <th>8</th>\n",
       "      <td>6.0</td>\n",
       "      <td>80</td>\n",
       "      <td>2.333333</td>\n",
       "      <td>17.222222</td>\n",
       "      <td>40.185185</td>\n",
       "      <td>5.444444</td>\n",
       "      <td>296.604938</td>\n",
       "    </tr>\n",
       "  </tbody>\n",
       "</table>\n",
       "</div>"
      ],
      "text/plain": [
       "   Hours  Scores         x          y        x*y       x^2         y^2\n",
       "0    3.0      90 -0.666667  27.222222 -18.148148  0.444444  741.049383\n",
       "1    2.5      80 -1.166667  17.222222 -20.092593  1.361111  296.604938\n",
       "2    6.0      75  2.333333  12.222222  28.518519  5.444444  149.382716\n",
       "3    4.0      39  0.333333 -23.777778  -7.925926  0.111111  565.382716\n",
       "4    2.0      62 -1.666667  -0.777778   1.296296  2.777778    0.604938\n",
       "5    1.5      34 -2.166667 -28.777778  62.351852  4.694444  828.160494\n",
       "6    3.0      65 -0.666667   2.222222  -1.481481  0.444444    4.938272\n",
       "7    5.0      40  1.333333 -22.777778 -30.370370  1.777778  518.827160\n",
       "8    6.0      80  2.333333  17.222222  40.185185  5.444444  296.604938"
      ]
     },
     "execution_count": 6,
     "metadata": {},
     "output_type": "execute_result"
    }
   ],
   "source": [
    "df[\"x\"] = df[\"Hours\"] - x_mean\n",
    "df[\"y\"] = df[\"Scores\"] - y_mean\n",
    "df[\"x*y\"] = df[\"x\"] * df[\"y\"]\n",
    "df[\"x^2\"] = df[\"x\"]**2\n",
    "df[\"y^2\"] = df[\"y\"]**2\n",
    "df"
   ]
  },
  {
   "cell_type": "code",
   "execution_count": 7,
   "id": "08cbeb01",
   "metadata": {},
   "outputs": [
    {
     "name": "stdout",
     "output_type": "stream",
     "text": [
      "54.33333333333333 22.500000000000004 3401.555555555556\n"
     ]
    }
   ],
   "source": [
    "summation_x_y = df[\"x*y\"].sum()\n",
    "summation_x_squared = df[\"x^2\"].sum()\n",
    "summation_y_squared = df[\"y^2\"].sum()\n",
    "print(summation_x_y, summation_x_squared, summation_y_squared)"
   ]
  },
  {
   "cell_type": "code",
   "execution_count": 8,
   "id": "8e5442d4",
   "metadata": {},
   "outputs": [
    {
     "data": {
      "text/plain": [
       "0.1963976588154831"
      ]
     },
     "execution_count": 8,
     "metadata": {},
     "output_type": "execute_result"
    }
   ],
   "source": [
    "correlation = summation_x_y / (summation_x_squared *\n",
    "summation_y_squared)**0.5\n",
    "correlation"
   ]
  },
  {
   "cell_type": "code",
   "execution_count": 10,
   "id": "6e419449",
   "metadata": {},
   "outputs": [],
   "source": [
    "def getMean(numbers):\n",
    "    if len(numbers) == 0:\n",
    "        return None\n",
    "    else:\n",
    "        current_sum = 0\n",
    "        for i in numbers:\n",
    "            current_sum += i\n",
    "            current_avg = current_sum/len(numbers)\n",
    "        return current_avg"
   ]
  },
  {
   "cell_type": "code",
   "execution_count": 12,
   "id": "932d09bf",
   "metadata": {},
   "outputs": [],
   "source": [
    "def getStandardDeviation(numbers):\n",
    "    if len(numbers) == 0:\n",
    "        return 0\n",
    "    else:\n",
    "        mean = getMean(numbers)\n",
    "        std_deviation = 0\n",
    "        for i in numbers:\n",
    "            std_deviation += (i - mean)**2\n",
    "        return (std_deviation/len(numbers))**0.5"
   ]
  },
  {
   "cell_type": "code",
   "execution_count": 13,
   "id": "15067bf9",
   "metadata": {},
   "outputs": [
    {
     "name": "stdout",
     "output_type": "stream",
     "text": [
      "1.5811388300841898 19.440952067323007\n"
     ]
    }
   ],
   "source": [
    "std_deviation_x = getStandardDeviation(df[\"x\"].tolist())\n",
    "std_deviation_y = getStandardDeviation(df[\"y\"].tolist())\n",
    "print(std_deviation_x, std_deviation_y)"
   ]
  },
  {
   "cell_type": "code",
   "execution_count": 14,
   "id": "c9279f0b",
   "metadata": {},
   "outputs": [
    {
     "data": {
      "text/plain": [
       "2.414814814814814"
      ]
     },
     "execution_count": 14,
     "metadata": {},
     "output_type": "execute_result"
    }
   ],
   "source": [
    "m = correlation * (std_deviation_y / std_deviation_x)\n",
    "m"
   ]
  },
  {
   "cell_type": "code",
   "execution_count": 15,
   "id": "e97f5509",
   "metadata": {},
   "outputs": [
    {
     "data": {
      "text/plain": [
       "53.92345679012346"
      ]
     },
     "execution_count": 15,
     "metadata": {},
     "output_type": "execute_result"
    }
   ],
   "source": [
    "c = df[\"Scores\"].mean() - m * df[\"Hours\"].mean()\n",
    "c"
   ]
  },
  {
   "cell_type": "code",
   "execution_count": 17,
   "id": "ff934f21",
   "metadata": {},
   "outputs": [
    {
     "data": {
      "text/html": [
       "<div>\n",
       "<style scoped>\n",
       "    .dataframe tbody tr th:only-of-type {\n",
       "        vertical-align: middle;\n",
       "    }\n",
       "\n",
       "    .dataframe tbody tr th {\n",
       "        vertical-align: top;\n",
       "    }\n",
       "\n",
       "    .dataframe thead th {\n",
       "        text-align: right;\n",
       "    }\n",
       "</style>\n",
       "<table border=\"1\" class=\"dataframe\">\n",
       "  <thead>\n",
       "    <tr style=\"text-align: right;\">\n",
       "      <th></th>\n",
       "      <th>Hours</th>\n",
       "      <th>Scores</th>\n",
       "      <th>x</th>\n",
       "      <th>y</th>\n",
       "      <th>x*y</th>\n",
       "      <th>x^2</th>\n",
       "      <th>y^2</th>\n",
       "      <th>y_prediction</th>\n",
       "    </tr>\n",
       "  </thead>\n",
       "  <tbody>\n",
       "    <tr>\n",
       "      <th>0</th>\n",
       "      <td>3.0</td>\n",
       "      <td>90</td>\n",
       "      <td>-0.666667</td>\n",
       "      <td>27.222222</td>\n",
       "      <td>-18.148148</td>\n",
       "      <td>0.444444</td>\n",
       "      <td>741.049383</td>\n",
       "      <td>61.167901</td>\n",
       "    </tr>\n",
       "    <tr>\n",
       "      <th>1</th>\n",
       "      <td>2.5</td>\n",
       "      <td>80</td>\n",
       "      <td>-1.166667</td>\n",
       "      <td>17.222222</td>\n",
       "      <td>-20.092593</td>\n",
       "      <td>1.361111</td>\n",
       "      <td>296.604938</td>\n",
       "      <td>59.960494</td>\n",
       "    </tr>\n",
       "    <tr>\n",
       "      <th>2</th>\n",
       "      <td>6.0</td>\n",
       "      <td>75</td>\n",
       "      <td>2.333333</td>\n",
       "      <td>12.222222</td>\n",
       "      <td>28.518519</td>\n",
       "      <td>5.444444</td>\n",
       "      <td>149.382716</td>\n",
       "      <td>68.412346</td>\n",
       "    </tr>\n",
       "    <tr>\n",
       "      <th>3</th>\n",
       "      <td>4.0</td>\n",
       "      <td>39</td>\n",
       "      <td>0.333333</td>\n",
       "      <td>-23.777778</td>\n",
       "      <td>-7.925926</td>\n",
       "      <td>0.111111</td>\n",
       "      <td>565.382716</td>\n",
       "      <td>63.582716</td>\n",
       "    </tr>\n",
       "    <tr>\n",
       "      <th>4</th>\n",
       "      <td>2.0</td>\n",
       "      <td>62</td>\n",
       "      <td>-1.666667</td>\n",
       "      <td>-0.777778</td>\n",
       "      <td>1.296296</td>\n",
       "      <td>2.777778</td>\n",
       "      <td>0.604938</td>\n",
       "      <td>58.753086</td>\n",
       "    </tr>\n",
       "    <tr>\n",
       "      <th>5</th>\n",
       "      <td>1.5</td>\n",
       "      <td>34</td>\n",
       "      <td>-2.166667</td>\n",
       "      <td>-28.777778</td>\n",
       "      <td>62.351852</td>\n",
       "      <td>4.694444</td>\n",
       "      <td>828.160494</td>\n",
       "      <td>57.545679</td>\n",
       "    </tr>\n",
       "    <tr>\n",
       "      <th>6</th>\n",
       "      <td>3.0</td>\n",
       "      <td>65</td>\n",
       "      <td>-0.666667</td>\n",
       "      <td>2.222222</td>\n",
       "      <td>-1.481481</td>\n",
       "      <td>0.444444</td>\n",
       "      <td>4.938272</td>\n",
       "      <td>61.167901</td>\n",
       "    </tr>\n",
       "    <tr>\n",
       "      <th>7</th>\n",
       "      <td>5.0</td>\n",
       "      <td>40</td>\n",
       "      <td>1.333333</td>\n",
       "      <td>-22.777778</td>\n",
       "      <td>-30.370370</td>\n",
       "      <td>1.777778</td>\n",
       "      <td>518.827160</td>\n",
       "      <td>65.997531</td>\n",
       "    </tr>\n",
       "    <tr>\n",
       "      <th>8</th>\n",
       "      <td>6.0</td>\n",
       "      <td>80</td>\n",
       "      <td>2.333333</td>\n",
       "      <td>17.222222</td>\n",
       "      <td>40.185185</td>\n",
       "      <td>5.444444</td>\n",
       "      <td>296.604938</td>\n",
       "      <td>68.412346</td>\n",
       "    </tr>\n",
       "  </tbody>\n",
       "</table>\n",
       "</div>"
      ],
      "text/plain": [
       "   Hours  Scores         x          y        x*y       x^2         y^2  \\\n",
       "0    3.0      90 -0.666667  27.222222 -18.148148  0.444444  741.049383   \n",
       "1    2.5      80 -1.166667  17.222222 -20.092593  1.361111  296.604938   \n",
       "2    6.0      75  2.333333  12.222222  28.518519  5.444444  149.382716   \n",
       "3    4.0      39  0.333333 -23.777778  -7.925926  0.111111  565.382716   \n",
       "4    2.0      62 -1.666667  -0.777778   1.296296  2.777778    0.604938   \n",
       "5    1.5      34 -2.166667 -28.777778  62.351852  4.694444  828.160494   \n",
       "6    3.0      65 -0.666667   2.222222  -1.481481  0.444444    4.938272   \n",
       "7    5.0      40  1.333333 -22.777778 -30.370370  1.777778  518.827160   \n",
       "8    6.0      80  2.333333  17.222222  40.185185  5.444444  296.604938   \n",
       "\n",
       "   y_prediction  \n",
       "0     61.167901  \n",
       "1     59.960494  \n",
       "2     68.412346  \n",
       "3     63.582716  \n",
       "4     58.753086  \n",
       "5     57.545679  \n",
       "6     61.167901  \n",
       "7     65.997531  \n",
       "8     68.412346  "
      ]
     },
     "execution_count": 17,
     "metadata": {},
     "output_type": "execute_result"
    }
   ],
   "source": [
    "df[\"y_prediction\"] = m * df[\"Hours\"] + c\n",
    "df"
   ]
  },
  {
   "cell_type": "code",
   "execution_count": 18,
   "id": "9fcc97cb",
   "metadata": {},
   "outputs": [
    {
     "data": {
      "image/png": "[encoded data removed]",
      "text/plain": [
       "<Figure size 432x288 with 1 Axes>"
      ]
     },
     "metadata": {
      "needs_background": "light"
     },
     "output_type": "display_data"
    }
   ],
   "source": [
    "plot1 = plt.scatter(df[\"Hours\"], df[\"Scores\"])\n",
    "plot2 = plt.scatter(df[\"Hours\"], df[\"y_prediction\"])\n",
    "plt.show()"
   ]
  },
  {
   "cell_type": "code",
   "execution_count": null,
   "id": "ce63fce0",
   "metadata": {},
   "outputs": [],
   "source": []
  }
 ],
 "metadata": {
  "kernelspec": {
   "display_name": "Python 3 (ipykernel)",
   "language": "python",
   "name": "python3"
  },
  "language_info": {
   "codemirror_mode": {
    "name": "ipython",
    "version": 3
   },
   "file_extension": ".py",
   "mimetype": "text/x-python",
   "name": "python",
   "nbconvert_exporter": "python",
   "pygments_lexer": "ipython3",
   "version": "3.10.6"
  }
 },
 "nbformat": 4,
 "nbformat_minor": 5
}
